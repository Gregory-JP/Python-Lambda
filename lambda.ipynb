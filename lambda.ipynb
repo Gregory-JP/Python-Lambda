{
 "cells": [
  {
   "cell_type": "code",
   "execution_count": 8,
   "id": "eb9e873f",
   "metadata": {},
   "outputs": [
    {
     "name": "stdout",
     "output_type": "stream",
     "text": [
      "1200.0\n"
     ]
    }
   ],
   "source": [
    "preco = 4000\n",
    "\n",
    "def calcular_imposto(preco):\n",
    "    return preco * 0.3\n",
    "\n",
    "print(calcular_imposto(preco))"
   ]
  },
  {
   "cell_type": "code",
   "execution_count": 9,
   "id": "1423b047",
   "metadata": {},
   "outputs": [
    {
     "name": "stdout",
     "output_type": "stream",
     "text": [
      "1200.0\n"
     ]
    }
   ],
   "source": [
    "calcular_imposto2 = lambda x: x * 0.3\n",
    "\n",
    "print(calcular_imposto2(preco))"
   ]
  },
  {
   "cell_type": "code",
   "execution_count": 12,
   "id": "32536fd7",
   "metadata": {},
   "outputs": [
    {
     "name": "stdout",
     "output_type": "stream",
     "text": [
      "[30.0, 150.0, 360.0, 3.0]\n"
     ]
    }
   ],
   "source": [
    "precos = [100, 500, 1200, 10]\n",
    "\n",
    "impostos = list(map(lambda x: x * 0.3, precos))\n",
    "print(impostos)"
   ]
  },
  {
   "cell_type": "code",
   "execution_count": null,
   "id": "d9a42c08",
   "metadata": {},
   "outputs": [],
   "source": []
  }
 ],
 "metadata": {
  "kernelspec": {
   "display_name": "Python 3",
   "language": "python",
   "name": "python3"
  },
  "language_info": {
   "codemirror_mode": {
    "name": "ipython",
    "version": 3
   },
   "file_extension": ".py",
   "mimetype": "text/x-python",
   "name": "python",
   "nbconvert_exporter": "python",
   "pygments_lexer": "ipython3",
   "version": "3.9.4"
  }
 },
 "nbformat": 4,
 "nbformat_minor": 5
}
